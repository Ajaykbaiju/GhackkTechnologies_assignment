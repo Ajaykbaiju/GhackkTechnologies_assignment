{
 "cells": [
  {
   "cell_type": "code",
   "execution_count": 1,
   "id": "ef537ea7-030a-494f-b94a-52acf4bb2c1e",
   "metadata": {},
   "outputs": [
    {
     "name": "stdout",
     "output_type": "stream",
     "text": [
      "Collecting textblob\n",
      "  Downloading textblob-0.18.0.post0-py3-none-any.whl.metadata (4.5 kB)\n",
      "Collecting nltk>=3.8 (from textblob)\n",
      "  Downloading nltk-3.9.1-py3-none-any.whl.metadata (2.9 kB)\n",
      "Requirement already satisfied: click in c:\\users\\ajayk\\appdata\\local\\programs\\python\\python38\\lib\\site-packages (from nltk>=3.8->textblob) (8.1.7)\n",
      "Requirement already satisfied: joblib in c:\\users\\ajayk\\appdata\\local\\programs\\python\\python38\\lib\\site-packages (from nltk>=3.8->textblob) (1.4.2)\n",
      "Requirement already satisfied: regex>=2021.8.3 in c:\\users\\ajayk\\appdata\\local\\programs\\python\\python38\\lib\\site-packages (from nltk>=3.8->textblob) (2024.5.15)\n",
      "Requirement already satisfied: tqdm in c:\\users\\ajayk\\appdata\\local\\programs\\python\\python38\\lib\\site-packages (from nltk>=3.8->textblob) (4.66.4)\n",
      "Requirement already satisfied: colorama in c:\\users\\ajayk\\appdata\\local\\programs\\python\\python38\\lib\\site-packages (from click->nltk>=3.8->textblob) (0.4.6)\n",
      "Downloading textblob-0.18.0.post0-py3-none-any.whl (626 kB)\n",
      "   ---------------------------------------- 0.0/626.3 kB ? eta -:--:--\n",
      "   ----------------------------------- --- 563.2/626.3 kB 12.0 MB/s eta 0:00:01\n",
      "   ---------------------------------------- 626.3/626.3 kB 9.9 MB/s eta 0:00:00\n",
      "Downloading nltk-3.9.1-py3-none-any.whl (1.5 MB)\n",
      "   ---------------------------------------- 0.0/1.5 MB ? eta -:--:--\n",
      "   ------ --------------------------------- 0.3/1.5 MB 5.2 MB/s eta 0:00:01\n",
      "   ----------- ---------------------------- 0.4/1.5 MB 4.5 MB/s eta 0:00:01\n",
      "   -------------- ------------------------- 0.5/1.5 MB 4.8 MB/s eta 0:00:01\n",
      "   -------------- ------------------------- 0.5/1.5 MB 4.8 MB/s eta 0:00:01\n",
      "   ---------------- ----------------------- 0.6/1.5 MB 2.6 MB/s eta 0:00:01\n",
      "   ---------------------- ----------------- 0.8/1.5 MB 3.0 MB/s eta 0:00:01\n",
      "   ------------------------------ --------- 1.1/1.5 MB 3.4 MB/s eta 0:00:01\n",
      "   ----------------------------------- ---- 1.4/1.5 MB 3.7 MB/s eta 0:00:01\n",
      "   ---------------------------------------  1.5/1.5 MB 3.7 MB/s eta 0:00:01\n",
      "   ---------------------------------------- 1.5/1.5 MB 3.5 MB/s eta 0:00:00\n",
      "Installing collected packages: nltk, textblob\n",
      "Successfully installed nltk-3.9.1 textblob-0.18.0.post0\n",
      "Note: you may need to restart the kernel to use updated packages.\n"
     ]
    },
    {
     "name": "stderr",
     "output_type": "stream",
     "text": [
      "\n",
      "[notice] A new release of pip is available: 24.1.2 -> 24.2\n",
      "[notice] To update, run: c:\\users\\ajayk\\appdata\\local\\programs\\python\\python38\\python.exe -m pip install --upgrade pip\n"
     ]
    }
   ],
   "source": [
    "pip install textblob\n"
   ]
  },
  {
   "cell_type": "code",
   "execution_count": 3,
   "id": "fe643606-83e8-4cad-b50b-cc0c2ff54ee5",
   "metadata": {},
   "outputs": [
    {
     "name": "stdout",
     "output_type": "stream",
     "text": [
      "Positive comments: 60.00%\n",
      "Negative comments: 20.00%\n"
     ]
    }
   ],
   "source": [
    "from textblob import TextBlob\n",
    "\n",
    "# Example comments (replaced these with the scraped comments) only one comment \n",
    "comments = [\n",
    "    \"I love manga! It's amazing!\",\n",
    "    \"Manhwa is so boring compared to manga.\",\n",
    "    \"Both are great in their own way!\",\n",
    "    \"I dislike the art style of manhwa.\",\n",
    "    \"One of the best articles ever written on the topic. It clearly reflects the differences without any unnecessary details and is really to the point. Great job, Shweta!\",\n",
    "    \n",
    "]\n",
    "\n",
    "positive_comments = 0\n",
    "negative_comments = 0\n",
    "\n",
    "for comment in comments:\n",
    "    analysis = TextBlob(comment)\n",
    "    # Classify as positive, negative or neutral\n",
    "    if analysis.sentiment.polarity > 0:\n",
    "        positive_comments += 1\n",
    "    elif analysis.sentiment.polarity < 0:\n",
    "        negative_comments += 1\n",
    "\n",
    "total_comments = len(comments)\n",
    "positive_percentage = (positive_comments / total_comments) * 100 if total_comments > 0 else 0\n",
    "negative_percentage = (negative_comments / total_comments) * 100 if total_comments > 0 else 0\n",
    "\n",
    "print(f\"Positive comments: {positive_percentage:.2f}%\")\n",
    "print(f\"Negative comments: {negative_percentage:.2f}%\")\n"
   ]
  },
  {
   "cell_type": "code",
   "execution_count": null,
   "id": "a7e52165-2ab7-4c80-b9f0-4a3e91e5baa0",
   "metadata": {},
   "outputs": [],
   "source": []
  }
 ],
 "metadata": {
  "kernelspec": {
   "display_name": "Python 3 (ipykernel)",
   "language": "python",
   "name": "python3"
  },
  "language_info": {
   "codemirror_mode": {
    "name": "ipython",
    "version": 3
   },
   "file_extension": ".py",
   "mimetype": "text/x-python",
   "name": "python",
   "nbconvert_exporter": "python",
   "pygments_lexer": "ipython3",
   "version": "3.8.10"
  }
 },
 "nbformat": 4,
 "nbformat_minor": 5
}
